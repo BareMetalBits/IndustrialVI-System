{
 "cells": [
  {
   "cell_type": "code",
   "execution_count": 1,
   "id": "53854a1e",
   "metadata": {},
   "outputs": [],
   "source": [
    "import numpy as np\n",
    "from tensorflow.keras.preprocessing import image\n",
    "from tensorflow.keras.models import load_model"
   ]
  },
  {
   "cell_type": "code",
   "execution_count": 2,
   "id": "568b3a48",
   "metadata": {},
   "outputs": [
    {
     "name": "stderr",
     "output_type": "stream",
     "text": [
      "WARNING:absl:Compiled the loaded model, but the compiled metrics have yet to be built. `model.compile_metrics` will be empty until you train or evaluate the model.\n"
     ]
    }
   ],
   "source": [
    "model = load_model(\"bottle_classifier.h5\")"
   ]
  },
  {
   "cell_type": "code",
   "execution_count": 3,
   "id": "bcf305be",
   "metadata": {},
   "outputs": [],
   "source": [
    "img_path = 'C:/Users/Admin/OneDrive/Desktop/MachineLearning/Dataset_1/Test/Opaque.jpg'  # change this to your test image\n",
    "img = image.load_img(img_path, target_size=(150, 150))\n",
    "img_array = image.img_to_array(img) / 255.0\n",
    "img_array = np.expand_dims(img_array, axis=0)"
   ]
  },
  {
   "cell_type": "code",
   "execution_count": 4,
   "id": "b7cf235e",
   "metadata": {},
   "outputs": [
    {
     "name": "stdout",
     "output_type": "stream",
     "text": [
      "\u001b[1m1/1\u001b[0m \u001b[32m━━━━━━━━━━━━━━━━━━━━\u001b[0m\u001b[37m\u001b[0m \u001b[1m0s\u001b[0m 144ms/step\n",
      "Predicted Bottle Type: Opaque\n",
      "Confidence: [[7.1122235e-01 1.3617675e-05 2.8876400e-01]]\n"
     ]
    }
   ],
   "source": [
    "prediction = model.predict(img_array)\n",
    "classes = ['Opaque', 'Steel', 'Transparent']\n",
    "predicted_class = classes[np.argmax(prediction)]\n",
    "\n",
    "print(\"Predicted Bottle Type:\", predicted_class)\n",
    "print(\"Confidence:\", prediction)"
   ]
  },
  {
   "cell_type": "code",
   "execution_count": 5,
   "id": "aedcd567",
   "metadata": {},
   "outputs": [
    {
     "name": "stderr",
     "output_type": "stream",
     "text": [
      "WARNING:absl:Compiled the loaded model, but the compiled metrics have yet to be built. `model.compile_metrics` will be empty until you train or evaluate the model.\n"
     ]
    },
    {
     "name": "stdout",
     "output_type": "stream",
     "text": [
      "C:/Users/Admin/OneDrive/Desktop/MachineLearning/Dataset_1/Test\\Opaque.jpg\n",
      "Opaque.jpg: Opaque (71.12%)\n",
      "C:/Users/Admin/OneDrive/Desktop/MachineLearning/Dataset_1/Test\\regularplastic.jpg\n",
      "regularplastic.jpg: Transparent (99.98%)\n",
      "C:/Users/Admin/OneDrive/Desktop/MachineLearning/Dataset_1/Test\\steel.jpg\n",
      "steel.jpg: Steel (64.12%)\n",
      "C:/Users/Admin/OneDrive/Desktop/MachineLearning/Dataset_1/Test\\Transperent.jpg\n",
      "Transperent.jpg: Steel (55.58%)\n"
     ]
    }
   ],
   "source": [
    "import os\n",
    "import numpy as np\n",
    "from tensorflow.keras.models import load_model\n",
    "from tensorflow.keras.preprocessing.image import load_img, img_to_array\n",
    "\n",
    "# Load your trained model\n",
    "model = load_model(\"bottle_classifier.h5\")\n",
    "classes = ['Opaque', 'Steel', 'Transparent']\n",
    "\n",
    "\n",
    "# Path to your test images directory\n",
    "TEST_DIR = \"C:/Users/Admin/OneDrive/Desktop/MachineLearning/Dataset_1/Test\"\n",
    "IMG_SIZE = (150, 150)  # Make sure this matches your training size\n",
    "\n",
    "# Loop through all images in the folder\n",
    "for filename in os.listdir(TEST_DIR):\n",
    "    if filename.lower().endswith((\".jpg\", \".jpeg\", \".png\")):\n",
    "        image_path = os.path.join(TEST_DIR, filename)\n",
    "        \n",
    "        try:\n",
    "            # Load and preprocess image\n",
    "            img = load_img(image_path, target_size=IMG_SIZE)\n",
    "            print(image_path)\n",
    "            img_array = img_to_array(img) / 255.0\n",
    "            img_array = np.expand_dims(img_array, axis=0)\n",
    "\n",
    "            # Make prediction\n",
    "            prediction = model.predict(img_array, verbose=0)[0]\n",
    "            class_id = np.argmax(prediction)\n",
    "            confidence = prediction[class_id] * 100\n",
    "\n",
    "            print(f\"{filename}: {classes[class_id]} ({confidence:.2f}%)\")\n",
    "\n",
    "        except Exception as e:\n",
    "            print(f\"Error processing {filename}: {e}\")\n"
   ]
  }
 ],
 "metadata": {
  "kernelspec": {
   "display_name": "Python 3",
   "language": "python",
   "name": "python3"
  },
  "language_info": {
   "codemirror_mode": {
    "name": "ipython",
    "version": 3
   },
   "file_extension": ".py",
   "mimetype": "text/x-python",
   "name": "python",
   "nbconvert_exporter": "python",
   "pygments_lexer": "ipython3",
   "version": "3.12.10"
  }
 },
 "nbformat": 4,
 "nbformat_minor": 5
}
